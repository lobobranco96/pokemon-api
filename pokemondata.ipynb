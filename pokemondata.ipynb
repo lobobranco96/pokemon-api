{
  "nbformat": 4,
  "nbformat_minor": 0,
  "metadata": {
    "colab": {
      "provenance": [],
      "authorship_tag": "ABX9TyM5qXsR5OO2BAx8MT582jHH",
      "include_colab_link": true
    },
    "kernelspec": {
      "name": "python3",
      "display_name": "Python 3"
    },
    "language_info": {
      "name": "python"
    }
  },
  "cells": [
    {
      "cell_type": "markdown",
      "metadata": {
        "id": "view-in-github",
        "colab_type": "text"
      },
      "source": [
        "<a href=\"https://colab.research.google.com/github/lobobranco96/pokemon-data-project/blob/main/pokemondata.ipynb\" target=\"_parent\"><img src=\"https://colab.research.google.com/assets/colab-badge.svg\" alt=\"Open In Colab\"/></a>"
      ]
    },
    {
      "cell_type": "code",
      "source": [
        "import requests\n",
        "import pandas as pd\n",
        "import os"
      ],
      "metadata": {
        "id": "KVAkYUj9X5wP"
      },
      "execution_count": null,
      "outputs": []
    },
    {
      "cell_type": "code",
      "source": [
        "from google.colab import drive\n",
        "drive.mount('/content/drive')\n"
      ],
      "metadata": {
        "colab": {
          "base_uri": "https://localhost:8080/"
        },
        "id": "wKhHInvjPXK2",
        "outputId": "24ab6c45-76e6-4713-eac8-d0bdae325237"
      },
      "execution_count": null,
      "outputs": [
        {
          "output_type": "stream",
          "name": "stdout",
          "text": [
            "Mounted at /content/drive\n"
          ]
        }
      ]
    },
    {
      "cell_type": "markdown",
      "source": [
        "EXTRACT"
      ],
      "metadata": {
        "id": "MAdj43oyhCWX"
      }
    },
    {
      "cell_type": "code",
      "source": [
        "def fetch_pokemon_from_api():\n",
        "    \"\"\"\n",
        "    Busca dados de Pokémon na PokeAPI, especificamente recuperando as gerações disponíveis\n",
        "    e suas respectivas espécies de Pokémon.\n",
        "\n",
        "    Retorna:\n",
        "        dict: Um dicionário contendo duas listas:\n",
        "            - \"region\": Nomes das regiões correspondentes a cada geração.\n",
        "            - \"pokemon_id\": IDs dos Pokémon em cada geração.\n",
        "    \"\"\"\n",
        "\n",
        "    def find_geracao_available():\n",
        "        \"\"\"\n",
        "        Faz uma requisição à PokeAPI para obter todas as gerações de Pokémon disponíveis.\n",
        "\n",
        "        Retorna:\n",
        "            list: Lista com os nomes das gerações.\n",
        "        \"\"\"\n",
        "        response = requests.get(\"https://pokeapi.co/api/v2/generation/\", timeout=5)\n",
        "        pokemon = response.json()\n",
        "        return [pokemon_name['name'] for pokemon_name in pokemon.get('results')]\n",
        "\n",
        "    def fetch_geracao(geracao):\n",
        "        \"\"\"\n",
        "        Obtém dados de uma geração específica, incluindo a região e IDs dos Pokémon.\n",
        "\n",
        "        Args:\n",
        "            geracao (str): Nome da geração a ser buscada.\n",
        "\n",
        "        Retorna:\n",
        "            tuple: Região correspondente e lista de IDs dos Pokémon dessa geração.\n",
        "        \"\"\"\n",
        "        response = requests.get(f\"https://pokeapi.co/api/v2/generation/{geracao}\", timeout=5)\n",
        "        pokemon = response.json()\n",
        "        regiao = pokemon.get('main_region')['name']\n",
        "        ids = [nome['url'].split('/')[-2] for nome in pokemon.get('pokemon_species')]\n",
        "        return regiao, ids\n",
        "\n",
        "    # Inicializa um dicionário para armazenar os resultados das gerações\n",
        "    data = {\"region\": [], \"pokemon_id\": []}\n",
        "    for geracao in find_geracao_available():\n",
        "        regiao, ids = fetch_geracao(geracao)\n",
        "        data['region'].append(regiao)\n",
        "        data['pokemon_id'].append(ids)\n",
        "\n",
        "    return data\n",
        "\n",
        "def fetch_poke(region, pokemon_id):\n",
        "    \"\"\"\n",
        "    Busca dados detalhados de um Pokémon específico a partir da PokeAPI\n",
        "    e retorna um dicionário contendo suas informações.\n",
        "\n",
        "    Args:\n",
        "        region (str): Região do Pokémon.\n",
        "        pokemon_id (int): ID do Pokémon a ser buscado.\n",
        "\n",
        "    Retorna:\n",
        "        dict: Dicionário com informações detalhadas do Pokémon.\n",
        "    \"\"\"\n",
        "    # Inicializa um dicionário para armazenar informações do Pokémon\n",
        "    pokemon = {\n",
        "        'id': None,\n",
        "        'name': None,\n",
        "        'region': region,\n",
        "        'height': None,\n",
        "        'weight': None,\n",
        "        'base_experience': None,\n",
        "        'types': [],\n",
        "        'abilities': [],\n",
        "        'moves': [],\n",
        "        'location_area_encounters': [],\n",
        "        'held_items': [],\n",
        "        'base_happiness': None,\n",
        "        'color': None,\n",
        "        'capture_rate': None,\n",
        "        'evolves_from': None,\n",
        "        'is_baby': None,\n",
        "        'is_mythical': None,\n",
        "        'is_legendary': None\n",
        "    }\n",
        "\n",
        "    try:\n",
        "        # Faz a requisição para obter dados do Pokémon\n",
        "        response = requests.get(f\"https://pokeapi.co/api/v2/pokemon/{pokemon_id}\", timeout=5)\n",
        "        response.raise_for_status()  # Lança um erro se a requisição falhar\n",
        "        pokes = response.json()\n",
        "\n",
        "        # Armazena informações básicas do Pokémon\n",
        "        pokemon['id'] = pokes.get('id')\n",
        "        pokemon['name'] = pokes.get('name')\n",
        "        pokemon['height'] = pokes.get('height')\n",
        "        pokemon['weight'] = pokes.get('weight')\n",
        "        pokemon['base_experience'] = pokes.get('base_experience')\n",
        "        pokemon['abilities'] = [ability['ability']['name'] for ability in pokes.get('abilities', [])]\n",
        "        pokemon['moves'] = [move['move']['name'] for move in pokes.get('moves', [])]\n",
        "        pokemon['held_items'] = [item['item']['name'] for item in pokes.get('held_items', [])] or 'Não encontrado.'\n",
        "        pokemon['types'] = [type['type']['name'] for type in pokes.get('types', [])]\n",
        "\n",
        "        # Armazena os stats do Pokémon\n",
        "        for stat in pokes.get('stats', []):\n",
        "            pokemon[stat['stat']['name']] = stat['base_stat']\n",
        "\n",
        "        # Função interna para buscar áreas onde o Pokémon pode ser encontrado\n",
        "        def fetch_pokemon_areas(id_pokemon):\n",
        "            \"\"\"\n",
        "            Busca as áreas onde o Pokémon pode ser encontrado.\n",
        "\n",
        "            Args:\n",
        "                id_pokemon (int): ID do Pokémon a ser buscado.\n",
        "\n",
        "            Retorna:\n",
        "                list: Lista de áreas de encontro do Pokémon.\n",
        "            \"\"\"\n",
        "            response = requests.get(f\"https://pokeapi.co/api/v2/pokemon/{id_pokemon}/encounters\")\n",
        "            poke_area = response.json()\n",
        "            return [entry['location_area']['name'] for entry in poke_area]\n",
        "\n",
        "        # Atualiza o dicionário com as áreas de encontro\n",
        "        pokemon['location_area_encounters'] = fetch_pokemon_areas(pokemon['id'])\n",
        "\n",
        "        # Função interna para buscar detalhes adicionais do Pokémon\n",
        "        def pokemon_details(pokemon_id):\n",
        "            \"\"\"\n",
        "            Busca detalhes adicionais de um Pokémon a partir de seu nome.\n",
        "\n",
        "            Args:\n",
        "                pokemon_name (str): Nome do Pokémon.\n",
        "\n",
        "            Retorna:\n",
        "                dict: Dicionário com detalhes adicionais do Pokémon.\n",
        "            \"\"\"\n",
        "            response = requests.get(f\"https://pokeapi.co/api/v2/pokemon-species/{pokemon_id}\")\n",
        "            pokemon_species = response.json()\n",
        "            evolves_from = pokemon_species.get('evolves_from_species')\n",
        "            evolves_from_name = evolves_from['name'] if evolves_from else 'Não encontrado.'\n",
        "\n",
        "            return {\n",
        "                'base_happiness': pokemon_species.get('base_happiness'),\n",
        "                'color': pokemon_species.get('color', {}).get('name'),\n",
        "                'capture_rate': pokemon_species.get('capture_rate'),\n",
        "                'evolves_from': evolves_from_name,\n",
        "                'is_baby': pokemon_species.get('is_baby'),\n",
        "                'is_mythical': pokemon_species.get('is_mythical'),\n",
        "                'is_legendary': pokemon_species.get('is_legendary')\n",
        "            }\n",
        "\n",
        "        # Obtém os detalhes adicionais do Pokémon\n",
        "        detail = pokemon_details(pokemon_id)\n",
        "        pokemon['base_happiness'] = detail['base_happiness']\n",
        "        pokemon['color'] = detail['color']\n",
        "        pokemon['capture_rate'] = detail['capture_rate']\n",
        "        pokemon['evolves_from'] = detail['evolves_from']\n",
        "        pokemon['is_baby'] = detail['is_baby']\n",
        "        pokemon['is_mythical'] = detail['is_mythical']\n",
        "        pokemon['is_legendary'] = detail['is_legendary']\n",
        "\n",
        "    except requests.exceptions.RequestException as e:\n",
        "        # Trata erros de requisição\n",
        "        print(f\"Error fetching Pokémon data (ID: {pokemon_id}, Region: {region}): {e}\")\n",
        "        response.raise_for_status()\n",
        "    return pokemon\n",
        "\n",
        "# Loop pelas regiões disponíveis no dicionário completo\n",
        "complete_dicionario = fetch_pokemon_from_api()\n",
        "\n",
        "for region_index in range(len(complete_dicionario['region'])):\n",
        "    all_pokemon_data = []  # Lista temporária para armazenar os dados dos Pokémon\n",
        "    region = complete_dicionario['region'][region_index]\n",
        "\n",
        "    # Loop pelos IDs dos Pokémon na região atual\n",
        "    for pokemon_id in complete_dicionario['pokemon_id'][region_index]:\n",
        "      pokemon_data = fetch_poke(region, pokemon_id)\n",
        "      all_pokemon_data.append(pokemon_data)  # Adiciona os dados à lista\n",
        "\n",
        "    # Cria o DataFrame apenas uma vez com todos os Pokémon da região\n",
        "    dataframe = pd.DataFrame(all_pokemon_data)\n",
        "\n",
        "    diretorio = \"/content/drive/MyDrive/pokemon_region/\"\n",
        "    nome_arquivo = f\"{region}.json\"\n",
        "    caminho_arquivo = os.path.join(diretorio, nome_arquivo)\n",
        "    dataframe.to_json(caminho_arquivo, orient='records', lines=True)\n",
        "    print(f'Arquivo: {nome_arquivo} salvo com sucesso.')\n"
      ],
      "metadata": {
        "id": "SX-DtA5-SIqS"
      },
      "execution_count": null,
      "outputs": []
    },
    {
      "cell_type": "code",
      "source": [],
      "metadata": {
        "id": "vMHAn6pdm4rK"
      },
      "execution_count": null,
      "outputs": []
    },
    {
      "cell_type": "code",
      "source": [],
      "metadata": {
        "id": "IFntcq9Xm5Zg"
      },
      "execution_count": null,
      "outputs": []
    }
  ]
}